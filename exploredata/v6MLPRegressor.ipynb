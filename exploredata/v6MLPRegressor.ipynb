{
 "cells": [
  {
   "cell_type": "markdown",
   "metadata": {},
   "source": [
    "Goal: Evaluate the behaviour of the sum of primes"
   ]
  },
  {
   "cell_type": "code",
   "execution_count": null,
   "metadata": {},
   "outputs": [],
   "source": [
    "from matplotlib import pyplot as plt\n",
    "import numpy as np\n",
    "from sklearn import linear_model\n",
    "from sklearn.multioutput import RegressorChain\n",
    "from sklearn.linear_model import LogisticRegression\n",
    "from sklearn.neural_network import MLPRegressor\n",
    "from sklearn.model_selection import GridSearchCV\n",
    "from sklearn.pipeline import Pipeline\n",
    "from sklearn.preprocessing import StandardScaler\n",
    "from sklearn.compose import TransformedTargetRegressor\n",
    "from sklearn.model_selection import train_test_split\n",
    "from sklearn.preprocessing import PowerTransformer\n",
    "from sklearn.preprocessing import MaxAbsScaler\n",
    "from sklearn.pipeline import make_pipeline"
   ]
  },
  {
   "cell_type": "code",
   "execution_count": null,
   "metadata": {},
   "outputs": [],
   "source": [
    "# Load the data\n",
    "f = open(\"../data/rawRecords_64_256000.csv\")\n",
    "f.readline()  # skip the header\n",
    "data = np.loadtxt(f, delimiter=',')\n",
    "\n",
    "rawX = data[:, 0].reshape(-1, 1)\n",
    "rawY = data[:, 1:]\n",
    "# add sum column\n",
    "sumColumn = np.sum(rawY,1).reshape(-1, 1)\n",
    "\n",
    "newX = np.append(rawX, sumColumn, 1)\n",
    "newY = rawY"
   ]
  },
  {
   "cell_type": "markdown",
   "metadata": {},
   "source": [
    "Scale/Transform"
   ]
  },
  {
   "cell_type": "code",
   "execution_count": null,
   "metadata": {},
   "outputs": [],
   "source": [
    "xScaler = MaxAbsScaler()\n",
    "xScaler.fit(newX)\n",
    "transformedRawX = xScaler.transform(newX)\n",
    "yScaler = MaxAbsScaler()\n",
    "yScaler.fit(newY)\n",
    "transformedRawY = yScaler.transform(newY)"
   ]
  },
  {
   "cell_type": "code",
   "execution_count": null,
   "metadata": {},
   "outputs": [],
   "source": [
    "# split\n",
    "X_train, X_test, y_train, y_test = train_test_split(transformedRawX, transformedRawY)"
   ]
  },
  {
   "cell_type": "markdown",
   "metadata": {},
   "source": [
    "Train"
   ]
  },
  {
   "cell_type": "code",
   "execution_count": null,
   "metadata": {},
   "outputs": [],
   "source": [
    "regressor = MLPRegressor()\n",
    "regressor.fit(X_train, y_train)"
   ]
  },
  {
   "cell_type": "code",
   "execution_count": null,
   "metadata": {},
   "outputs": [],
   "source": [
    "print('regressor.score(x_test, y_test)=' + str(regressor.score(X_test, y_test)))\n",
    "\n",
    "x_test_zero = transformedRawX[-2:-1]\n",
    "y_test_zero = transformedRawY[-2:-1]\n",
    "y_pred = regressor.predict(x_test_zero)\n",
    "# y_pred_zero = int(yScaler.inverse_transform(y_pred[0].reshape(1, -1)))\n",
    "print(f'x_test_zero={str(x_test_zero)} y_pred_zero={str(y_pred)} y_test_zero={str(y_test_zero)}')\n",
    "\n",
    "plt.scatter(X_test, y_test, color=\"black\")\n",
    "plt.scatter(X_test, y_pred, color=\"blue\")\n",
    "plt.show()\n",
    "\n",
    "# plt.scatter(X_test, y_test[:, 1], color=\"black\")\n",
    "# plt.scatter(X_test, y_pred[:, 1], color=\"blue\")\n",
    "# plt.show()\n",
    "\n",
    "plt.plot(regressor.loss_curve_)\n",
    "plt.title(\"Loss Curve\", fontsize=14)\n",
    "plt.xlabel('Iterations')\n",
    "plt.ylabel('Cost')\n",
    "plt.show()"
   ]
  },
  {
   "cell_type": "code",
   "execution_count": null,
   "metadata": {},
   "outputs": [],
   "source": [
    "# %matplotlib widget\n",
    "plt.scatter(X_test[:, 1], y_test[:, 1], color=\"black\")\n",
    "plt.scatter(X_test[:, 1], y_pred[:, 1], color=\"blue\")\n",
    "plt.show()"
   ]
  }
 ],
 "metadata": {
  "interpreter": {
   "hash": "916dbcbb3f70747c44a77c7bcd40155683ae19c65e1c03b4aa3499c5328201f1"
  },
  "kernelspec": {
   "display_name": "Python 3.9.7 64-bit",
   "language": "python",
   "name": "python3"
  },
  "language_info": {
   "codemirror_mode": {
    "name": "ipython",
    "version": 3
   },
   "file_extension": ".py",
   "mimetype": "text/x-python",
   "name": "python",
   "nbconvert_exporter": "python",
   "pygments_lexer": "ipython3",
   "version": "3.9.7"
  }
 },
 "nbformat": 4,
 "nbformat_minor": 2
}
