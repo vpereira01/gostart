{
 "cells": [
  {
   "cell_type": "markdown",
   "metadata": {},
   "source": [
    "Goal: Check if bigger dataset"
   ]
  },
  {
   "cell_type": "code",
   "execution_count": null,
   "metadata": {},
   "outputs": [],
   "source": [
    "from matplotlib import pyplot as plt\n",
    "import numpy as np\n",
    "from sklearn import linear_model\n",
    "from sklearn.multioutput import RegressorChain\n",
    "from sklearn.linear_model import LogisticRegression\n",
    "from sklearn.neural_network import MLPRegressor\n",
    "from sklearn.model_selection import GridSearchCV\n",
    "from sklearn.pipeline import Pipeline\n",
    "from sklearn.preprocessing import StandardScaler\n",
    "from sklearn.compose import TransformedTargetRegressor\n",
    "from sklearn.model_selection import train_test_split\n",
    "from sklearn.preprocessing import PowerTransformer\n",
    "from sklearn.preprocessing import MaxAbsScaler\n",
    "from sklearn.preprocessing import MinMaxScaler\n",
    "from sklearn.preprocessing import FunctionTransformer\n",
    "from sklearn.pipeline import make_pipeline\n",
    "import seaborn as sns\n",
    "import pandas as pd\n",
    "import warnings"
   ]
  },
  {
   "cell_type": "code",
   "execution_count": null,
   "metadata": {},
   "outputs": [],
   "source": [
    "recordsUrl = '../data/rawRecords_150_8388608.csv'\n",
    "\n",
    "dataset = pd.read_csv(recordsUrl)"
   ]
  },
  {
   "cell_type": "code",
   "execution_count": null,
   "metadata": {},
   "outputs": [],
   "source": [
    "train_dataset = dataset.sample(frac=0.8, random_state=0)\n",
    "test_dataset = dataset.drop(train_dataset.index)"
   ]
  },
  {
   "cell_type": "code",
   "execution_count": null,
   "metadata": {},
   "outputs": [],
   "source": [
    "x_train=train_dataset['NumberN'].to_numpy().reshape(-1, 1)\n",
    "y_train=train_dataset[['SmallerPrime','BiggerPrime']]"
   ]
  },
  {
   "cell_type": "code",
   "execution_count": null,
   "metadata": {},
   "outputs": [],
   "source": [
    "# scale\n",
    "warnings.filterwarnings(\"error\", message=\".*check_inverse*.\",category=UserWarning, append=False)\n",
    "\n",
    "xScaler = FunctionTransformer(func=np.log1p, inverse_func=np.expm1, validate=True, check_inverse=True)\n",
    "xScaler.fit(x_train)\n",
    "transformedRawX = xScaler.transform(x_train)\n",
    "yScaler = FunctionTransformer(func=np.log1p, inverse_func=np.expm1, validate=True, check_inverse=True)\n",
    "yScaler.fit(y_train)\n",
    "transformedRawY = yScaler.transform(y_train)"
   ]
  },
  {
   "cell_type": "markdown",
   "metadata": {},
   "source": [
    "Train"
   ]
  },
  {
   "cell_type": "code",
   "execution_count": null,
   "metadata": {},
   "outputs": [],
   "source": [
    "regressor = MLPRegressor()\n",
    "regressor.fit(transformedRawX, transformedRawY)"
   ]
  },
  {
   "cell_type": "code",
   "execution_count": null,
   "metadata": {},
   "outputs": [],
   "source": [
    "print('regressor.score(x_test, y_test)=' + str(regressor.score))\n",
    "\n",
    "plt.plot(regressor.loss_curve_)\n",
    "plt.title(\"Loss Curve\", fontsize=14)\n",
    "plt.xlabel('Iterations')\n",
    "plt.ylabel('Cost')\n",
    "plt.show()"
   ]
  },
  {
   "cell_type": "code",
   "execution_count": null,
   "metadata": {},
   "outputs": [],
   "source": [
    "x_test=test_dataset['NumberN'].to_numpy().reshape(-1, 1)\n",
    "y_test=test_dataset[['SmallerPrime','BiggerPrime']]\n",
    "\n",
    "xTestScaler = FunctionTransformer(func=np.log1p, inverse_func=np.expm1, validate=True, check_inverse=True)\n",
    "xTestScaler.fit(x_test)\n",
    "x_test_transformed = xScaler.transform(x_test)\n",
    "yTestScaler = FunctionTransformer(func=np.log1p, inverse_func=np.expm1, validate=True, check_inverse=True)\n",
    "yTestScaler.fit(y_test)\n",
    "y_test_transformed = yScaler.transform(y_test)"
   ]
  },
  {
   "cell_type": "code",
   "execution_count": null,
   "metadata": {},
   "outputs": [],
   "source": [
    "print('regressor.score(x_test_transformed, y_test_transformed)=' + str(regressor.score(x_test_transformed, y_test_transformed)))\n",
    "\n",
    "x_test_zero = x_test_transformed[-1:]\n",
    "y_test_zero = y_test_transformed[-1:]\n",
    "y_pred = regressor.predict(x_test_zero)\n",
    "y_pred_zero = y_pred[0]\n",
    "print(f'x_test_zero={str(x_test_zero)} y_pred_zero={str(y_pred_zero)} y_test_zero={str(y_test_zero)}')\n",
    "\n",
    "y_pred = regressor.predict(x_test_transformed)\n",
    "plt.scatter(x_test_transformed, y_test_transformed[:, 0], color=\"black\")\n",
    "plt.scatter(x_test_transformed, y_pred[:, 0], color=\"blue\")\n",
    "plt.show()\n"
   ]
  },
  {
   "cell_type": "code",
   "execution_count": null,
   "metadata": {},
   "outputs": [],
   "source": [
    "x_test_rawx = int(x_test[-1:][0])\n",
    "y_test_rawyS = int(y_test.iloc[-1]['SmallerPrime'])\n",
    "y_pred_invTransS = yTestScaler.inverse_transform(y_pred[-1:])\n",
    "print(y_pred_invTransS)\n",
    "y_pred_invTransS_zero = int(y_pred_invTransS[0][0])\n",
    "pred_diff = y_test_rawyS - y_pred_invTransS_zero\n",
    "print(f'x_test_zero={str(x_test_rawx)} pred_diff={str(pred_diff)} y_pred_invTransS_zero={str(y_pred_invTransS_zero)} y_test_rawyS={str(y_test_rawyS)}')"
   ]
  }
 ],
 "metadata": {
  "interpreter": {
   "hash": "916dbcbb3f70747c44a77c7bcd40155683ae19c65e1c03b4aa3499c5328201f1"
  },
  "kernelspec": {
   "display_name": "Python 3.9.7 64-bit",
   "language": "python",
   "name": "python3"
  },
  "language_info": {
   "codemirror_mode": {
    "name": "ipython",
    "version": 3
   },
   "file_extension": ".py",
   "mimetype": "text/x-python",
   "name": "python",
   "nbconvert_exporter": "python",
   "pygments_lexer": "ipython3",
   "version": "3.9.7"
  }
 },
 "nbformat": 4,
 "nbformat_minor": 2
}
