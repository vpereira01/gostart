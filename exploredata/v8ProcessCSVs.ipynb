{
 "cells": [
  {
   "cell_type": "markdown",
   "metadata": {},
   "source": [
    "Process CSVs"
   ]
  },
  {
   "cell_type": "code",
   "execution_count": null,
   "metadata": {},
   "outputs": [],
   "source": [
    "from matplotlib import pyplot as plt\n",
    "import numpy as np\n",
    "from sklearn import linear_model\n",
    "from sklearn.multioutput import RegressorChain\n",
    "from sklearn.linear_model import LogisticRegression\n",
    "from sklearn.neural_network import MLPRegressor\n",
    "from sklearn.model_selection import GridSearchCV\n",
    "from sklearn.pipeline import Pipeline\n",
    "from sklearn.preprocessing import StandardScaler\n",
    "from sklearn.compose import TransformedTargetRegressor\n",
    "from sklearn.model_selection import train_test_split\n",
    "from sklearn.preprocessing import PowerTransformer\n",
    "from sklearn.preprocessing import MaxAbsScaler\n",
    "from sklearn.pipeline import make_pipeline"
   ]
  },
  {
   "cell_type": "code",
   "execution_count": null,
   "metadata": {},
   "outputs": [],
   "source": [
    "## Generate CSVs with custom data\n",
    "import seaborn as sns\n",
    "import pandas as pd\n",
    "\n",
    "df = pd.read_csv('../data/rawRecords_64_256000.csv')\n",
    "df2 = df.assign(SubPrimes=lambda r: r.BiggerPrime - r.SmallerPrime)\n",
    "# does not work as pandas/numpy can not handle python int's\n",
    "# df2 = df2.assign(Value1=lambda r: (4 * r.NumberN.astype(str).astype(int) + r.SubPrimes.astype(int)**2).astype('U'))\n",
    "Value1s = []\n",
    "FourNMod9 = []\n",
    "for index, row in df2.iterrows():\n",
    "    numberN = int(row['NumberN'])\n",
    "    subPrimes = int(row['SubPrimes'])\n",
    "    Value1s.append(str(4*numberN + subPrimes**2))\n",
    "    FourNMod9.append(str((4*numberN) % 9))\n",
    "df2['Value1'] = Value1s\n",
    "df2['FourNMod9'] = FourNMod9\n",
    "# df2.dtypes\n",
    "# sns.pairplot(df2, diag_kind='kde')\n",
    "df2.to_csv('../data/withSubsRecords_64_256000.csv')"
   ]
  }
 ],
 "metadata": {
  "interpreter": {
   "hash": "916dbcbb3f70747c44a77c7bcd40155683ae19c65e1c03b4aa3499c5328201f1"
  },
  "kernelspec": {
   "display_name": "Python 3.9.7 64-bit",
   "language": "python",
   "name": "python3"
  },
  "language_info": {
   "codemirror_mode": {
    "name": "ipython",
    "version": 3
   },
   "file_extension": ".py",
   "mimetype": "text/x-python",
   "name": "python",
   "nbconvert_exporter": "python",
   "pygments_lexer": "ipython3",
   "version": "3.9.7"
  }
 },
 "nbformat": 4,
 "nbformat_minor": 2
}
