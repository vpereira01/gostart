{
 "cells": [
  {
   "cell_type": "markdown",
   "metadata": {},
   "source": [
    "Goal: Evaluate the behaviour of the sub of primes"
   ]
  },
  {
   "cell_type": "code",
   "execution_count": null,
   "metadata": {},
   "outputs": [],
   "source": [
    "from matplotlib import pyplot as plt\n",
    "import numpy as np\n",
    "from sklearn import linear_model\n",
    "from sklearn.multioutput import RegressorChain\n",
    "from sklearn.linear_model import LogisticRegression\n",
    "from sklearn.neural_network import MLPRegressor\n",
    "from sklearn.model_selection import GridSearchCV\n",
    "from sklearn.pipeline import Pipeline\n",
    "from sklearn.preprocessing import StandardScaler\n",
    "from sklearn.compose import TransformedTargetRegressor\n",
    "from sklearn.model_selection import train_test_split\n",
    "from sklearn.preprocessing import PowerTransformer\n",
    "from sklearn.preprocessing import MaxAbsScaler\n",
    "from sklearn.pipeline import make_pipeline"
   ]
  },
  {
   "cell_type": "code",
   "execution_count": null,
   "metadata": {},
   "outputs": [],
   "source": [
    "# Load the data\n",
    "f = open(\"../data/rawRecords_64_256000.csv\")\n",
    "f.readline()  # skip the header\n",
    "data = np.loadtxt(f, delimiter=',')\n",
    "\n",
    "rawX = data[:, 0].reshape(-1, 1)\n",
    "rawY = data[:, 1:]\n",
    "# add sub column\n",
    "subColumn = np.subtract(rawY[:, 1],rawY[:, 0]).reshape(-1, 1)\n",
    "# sumColumn = np.sum(rawY,1).reshape(-1, 1) a sum does not seem to yield a better estimation but worse for some reason.\n",
    "\n",
    "# newX = np.append(rawX, subColumn, 1)\n",
    "# newY = rawY\n",
    "newX = rawX\n",
    "newY = subColumn"
   ]
  },
  {
   "cell_type": "markdown",
   "metadata": {},
   "source": [
    "Scale/Transform"
   ]
  },
  {
   "cell_type": "code",
   "execution_count": null,
   "metadata": {},
   "outputs": [],
   "source": [
    "xScaler = MaxAbsScaler()\n",
    "xScaler.fit(newX)\n",
    "transformedRawX = xScaler.transform(newX)\n",
    "yScaler = MaxAbsScaler()\n",
    "yScaler.fit(newY)\n",
    "transformedRawY = yScaler.transform(newY)"
   ]
  },
  {
   "cell_type": "code",
   "execution_count": null,
   "metadata": {},
   "outputs": [],
   "source": [
    "# split\n",
    "X_train, X_test, y_train, y_test = train_test_split(transformedRawX, transformedRawY)"
   ]
  },
  {
   "cell_type": "code",
   "execution_count": null,
   "metadata": {},
   "outputs": [],
   "source": [
    "# plot sub relation\n",
    "import seaborn as sns\n",
    "import pandas as pd\n",
    "\n",
    "df = pd.read_csv('../data/rawRecords_100_256000.csv')\n",
    "df2 = df.assign(subPrimes=lambda r: r.BiggerPrime - r.SmallerPrime)\n",
    "sns.pairplot(df2, diag_kind='kde')"
   ]
  },
  {
   "cell_type": "markdown",
   "metadata": {},
   "source": [
    "Train"
   ]
  },
  {
   "cell_type": "code",
   "execution_count": null,
   "metadata": {},
   "outputs": [],
   "source": [
    "regressor = MLPRegressor()\n",
    "regressor.fit(X_train, y_train)"
   ]
  },
  {
   "cell_type": "code",
   "execution_count": null,
   "metadata": {},
   "outputs": [],
   "source": [
    "print('regressor.score(x_test, y_test)=' + str(regressor.score(X_test, y_test)))\n",
    "\n",
    "x_test_zero = transformedRawX[-2:-1]\n",
    "y_test_zero = transformedRawY[-2:-1]\n",
    "y_pred = regressor.predict(x_test_zero)\n",
    "print(f'x_test_zero={str(x_test_zero)} y_pred_zero={str(y_pred)} y_test_zero={str(y_test_zero)}')\n",
    "\n",
    "y_pred_converted = yScaler.inverse_transform(y_pred[0].reshape(1, -1))\n",
    "y_pred_converted_0 = int(y_pred_converted[0][0])\n",
    "y_pred_converted_1 = int(y_pred_converted[0][1])\n",
    "print(f'y_pred_converted={str(y_pred_converted_0)}, {str(y_pred_converted_1)}')\n",
    "\n",
    "\n",
    "y_pred = regressor.predict(X_test)\n",
    "plt.scatter(X_test[:, 0], y_test[:, 1], color=\"black\")\n",
    "plt.scatter(X_test[:, 0], y_pred[:, 1], color=\"blue\")\n",
    "plt.show()\n",
    "\n",
    "plt.scatter(X_test[:, 0], X_test[:, 1], color=\"black\")\n",
    "plt.show()\n",
    "\n",
    "plt.plot(regressor.loss_curve_)\n",
    "plt.title(\"Loss Curve\", fontsize=14)\n",
    "plt.xlabel('Iterations')\n",
    "plt.ylabel('Cost')\n",
    "plt.show()"
   ]
  },
  {
   "cell_type": "code",
   "execution_count": null,
   "metadata": {},
   "outputs": [],
   "source": [
    "# %matplotlib widget\n",
    "plt.scatter(X_test[:, 1], y_test[:, 1], color=\"black\")\n",
    "plt.scatter(X_test[:, 1], y_pred[:, 1], color=\"blue\")\n",
    "plt.show()"
   ]
  }
 ],
 "metadata": {
  "interpreter": {
   "hash": "916dbcbb3f70747c44a77c7bcd40155683ae19c65e1c03b4aa3499c5328201f1"
  },
  "kernelspec": {
   "display_name": "Python 3.9.7 64-bit",
   "language": "python",
   "name": "python3"
  },
  "language_info": {
   "codemirror_mode": {
    "name": "ipython",
    "version": 3
   },
   "file_extension": ".py",
   "mimetype": "text/x-python",
   "name": "python",
   "nbconvert_exporter": "python",
   "pygments_lexer": "ipython3",
   "version": "3.9.7"
  }
 },
 "nbformat": 4,
 "nbformat_minor": 2
}
